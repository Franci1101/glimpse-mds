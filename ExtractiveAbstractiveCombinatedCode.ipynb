{
 "cells": [
  {
   "cell_type": "code",
   "execution_count": null,
   "metadata": {
    "execution": {
     "iopub.execute_input": "2025-02-12T19:59:38.128144Z",
     "iopub.status.busy": "2025-02-12T19:59:38.127771Z",
     "iopub.status.idle": "2025-02-12T19:59:42.031520Z",
     "shell.execute_reply": "2025-02-12T19:59:42.030522Z",
     "shell.execute_reply.started": "2025-02-12T19:59:38.128117Z"
    },
    "trusted": true
   },
   "outputs": [],
   "source": [
    "#Create my github folder on kaggle to use its functions\n",
    "!git clone https://github.com/Franci1101/glimpse-mds.git\n",
    "# Always starts from the glimpse-mds folder, so there’s no need to write /kaggle/working/....\n",
    "%cd glimpse-mds\n",
    "# Installation of libraries\n",
    "!pip install torch torchvision torchaudio --index-url https://download.pytorch.org/whl/cu118\n",
    "!pip install rouge-score\n",
    "!pip install bert-score\n",
    "# Install the libraries in requirements\n",
    "!pip install -r /kaggle/working/glimpse-mds/requirements"
   ]
  },
  {
   "cell_type": "markdown",
   "metadata": {},
   "source": [
    "**Choose one of the two processing apply**"
   ]
  },
  {
   "cell_type": "code",
   "execution_count": null,
   "metadata": {
    "execution": {
     "iopub.execute_input": "2025-02-12T20:00:08.056780Z",
     "iopub.status.busy": "2025-02-12T20:00:08.056514Z",
     "iopub.status.idle": "2025-02-12T20:00:12.166558Z",
     "shell.execute_reply": "2025-02-12T20:00:12.165603Z",
     "shell.execute_reply.started": "2025-02-12T20:00:08.056752Z"
    },
    "trusted": true
   },
   "outputs": [],
   "source": [
    "# Basic processing of data\n",
    "!python glimpse/data_loading/data_processing.py"
   ]
  },
  {
   "cell_type": "code",
   "execution_count": null,
   "metadata": {
    "execution": {
     "iopub.execute_input": "2025-02-12T06:49:19.847714Z",
     "iopub.status.busy": "2025-02-12T06:49:19.847428Z",
     "iopub.status.idle": "2025-02-12T06:49:20.741586Z",
     "shell.execute_reply": "2025-02-12T06:49:20.740752Z",
     "shell.execute_reply.started": "2025-02-12T06:49:19.847672Z"
    },
    "trusted": true
   },
   "outputs": [],
   "source": [
    "# Improvement of data processing\n",
    "!python glimpse/data_loading/data_processing_update.py data/dataset_entertainment.csv data/processed/dataset_entertainment.csv"
   ]
  },
  {
   "cell_type": "code",
   "execution_count": null,
   "metadata": {
    "execution": {
     "iopub.execute_input": "2025-02-12T20:00:12.547527Z",
     "iopub.status.busy": "2025-02-12T20:00:12.547205Z",
     "iopub.status.idle": "2025-02-12T20:03:24.422747Z",
     "shell.execute_reply": "2025-02-12T20:03:24.421727Z",
     "shell.execute_reply.started": "2025-02-12T20:00:12.547492Z"
    },
    "trusted": true
   },
   "outputs": [],
   "source": [
    "# Run od extractive phase\n",
    "!bash scripts/extractivekaggle.sh data/processed/all_reviews_2017.csv --output_dir output"
   ]
  },
  {
   "cell_type": "code",
   "execution_count": null,
   "metadata": {
    "execution": {
     "iopub.execute_input": "2025-02-12T20:03:34.360213Z",
     "iopub.status.busy": "2025-02-12T20:03:34.359828Z",
     "iopub.status.idle": "2025-02-12T20:06:41.688374Z",
     "shell.execute_reply": "2025-02-12T20:06:41.687379Z",
     "shell.execute_reply.started": "2025-02-12T20:03:34.360186Z"
    },
    "trusted": true
   },
   "outputs": [],
   "source": [
    "# Conversion from extractive phase output to abstractive phase input\n",
    "!python glimpse/src/from_extractive_to_abstractive.py output/outputExtractive.pk output/inputAbstractive.csv\n",
    "# Run od abstractive phase\n",
    "!bash scripts/abstractivekaggle.sh output/inputAbstractive.csv --add-padding"
   ]
  },
  {
   "cell_type": "code",
   "execution_count": null,
   "metadata": {
    "execution": {
     "iopub.execute_input": "2025-02-12T20:06:41.690049Z",
     "iopub.status.busy": "2025-02-12T20:06:41.689714Z",
     "iopub.status.idle": "2025-02-12T20:06:42.403712Z",
     "shell.execute_reply": "2025-02-12T20:06:42.402905Z",
     "shell.execute_reply.started": "2025-02-12T20:06:41.690013Z"
    },
    "trusted": true
   },
   "outputs": [],
   "source": [
    "# Output data processing\n",
    "!python glimpse/src/output_data_processing.py output/outputAbstractive.pk output/summaries.csv\n",
    "# Evaluation with ROUGE metrics\n",
    "!python glimpse/evaluate/evaluate_common_metrics_samples.py --summaries output/summaries.csv\n",
    "# Evaluation with BERTScore\n",
    "!python glimpse/evaluate/evaluate_bartbert_metrics.py --summaries output/summaries.csv\n",
    "# Print results \n",
    "!python glimpse/evaluate/print_Rouge_BertScore.py output/summaries.csv"
   ]
  }
 ],
 "metadata": {
  "kaggle": {
   "accelerator": "gpu",
   "dataSources": [
    {
     "datasetId": 6644542,
     "sourceId": 10719437,
     "sourceType": "datasetVersion"
    }
   ],
   "dockerImageVersionId": 30887,
   "isGpuEnabled": true,
   "isInternetEnabled": true,
   "language": "python",
   "sourceType": "notebook"
  },
  "kernelspec": {
   "display_name": "Python 3",
   "language": "python",
   "name": "python3"
  },
  "language_info": {
   "codemirror_mode": {
    "name": "ipython",
    "version": 3
   },
   "file_extension": ".py",
   "mimetype": "text/x-python",
   "name": "python",
   "nbconvert_exporter": "python",
   "pygments_lexer": "ipython3",
   "version": "3.10.12"
  }
 },
 "nbformat": 4,
 "nbformat_minor": 4
}
