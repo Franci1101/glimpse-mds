{
 "cells": [
  {
   "cell_type": "code",
   "execution_count": null,
   "metadata": {
    "_cell_guid": "b1076dfc-b9ad-4769-8c92-a6c4dae69d19",
    "_uuid": "8f2839f25d086af736a60e9eeb907d3b93b6e0e5",
    "execution": {
     "iopub.execute_input": "2025-02-14T13:17:12.229519Z",
     "iopub.status.busy": "2025-02-14T13:17:12.229212Z",
     "iopub.status.idle": "2025-02-14T13:17:42.886490Z",
     "shell.execute_reply": "2025-02-14T13:17:42.885568Z",
     "shell.execute_reply.started": "2025-02-14T13:17:12.229493Z"
    },
    "trusted": true
   },
   "outputs": [],
   "source": [
    "#Create my github folder on kaggle to use its functions\n",
    "!git clone https://github.com/Franci1101/glimpse-mds.git\n",
    "# Always starts from the glimpse-mds folder, so there’s no need to write /kaggle/working/....\n",
    "%cd glimpse-mds\n",
    "# Installation of libraries\n",
    "!pip install torch torchvision torchaudio --index-url https://download.pytorch.org/whl/cu118\n",
    "!pip install rouge-score\n",
    "!pip install bert-score\n",
    "# Install the libraries in requirements\n",
    "!pip install -r /kaggle/working/glimpse-mds/requirements"
   ]
  },
  {
   "cell_type": "markdown",
   "metadata": {},
   "source": [
    "**Choose one of the two processing apply**"
   ]
  },
  {
   "cell_type": "code",
   "execution_count": null,
   "metadata": {
    "execution": {
     "iopub.execute_input": "2025-02-14T13:17:42.887803Z",
     "iopub.status.busy": "2025-02-14T13:17:42.887585Z",
     "iopub.status.idle": "2025-02-14T13:17:47.069192Z",
     "shell.execute_reply": "2025-02-14T13:17:47.068335Z",
     "shell.execute_reply.started": "2025-02-14T13:17:42.887783Z"
    },
    "trusted": true
   },
   "outputs": [],
   "source": [
    "# Basic processing of data\n",
    "!python glimpse/data_loading/data_processing.py"
   ]
  },
  {
   "cell_type": "code",
   "execution_count": null,
   "metadata": {
    "trusted": true
   },
   "outputs": [],
   "source": [
    "# Improvement of data processing\n",
    "!python glimpse/data_loading/data_processing_update.py data/all_reviews_2018.csv data/processed/all_reviews_2018.csv"
   ]
  },
  {
   "cell_type": "code",
   "execution_count": null,
   "metadata": {
    "execution": {
     "iopub.execute_input": "2025-02-14T13:17:47.070841Z",
     "iopub.status.busy": "2025-02-14T13:17:47.070536Z",
     "iopub.status.idle": "2025-02-14T14:47:25.180879Z",
     "shell.execute_reply": "2025-02-14T14:47:25.179853Z",
     "shell.execute_reply.started": "2025-02-14T13:17:47.070815Z"
    },
    "trusted": true
   },
   "outputs": [],
   "source": [
    "# Further processing for abstractive\n",
    "!python glimpse/data_loading/processing_abstractive.py data/processed/all_reviews_2018.csv data/processed/all_reviews_2018.csv\n",
    "# Run od extractive phase\n",
    "!bash scripts/extractive.sh data/processed/all_reviews_2018.csv --output_dir output"
   ]
  },
  {
   "cell_type": "code",
   "execution_count": null,
   "metadata": {
    "execution": {
     "iopub.execute_input": "2025-02-14T14:47:25.182771Z",
     "iopub.status.busy": "2025-02-14T14:47:25.182435Z",
     "iopub.status.idle": "2025-02-14T14:47:26.652041Z",
     "shell.execute_reply": "2025-02-14T14:47:26.651237Z",
     "shell.execute_reply.started": "2025-02-14T14:47:25.182738Z"
    },
    "trusted": true
   },
   "outputs": [],
   "source": [
    "# Conversion from extractive phase output to readable csv\n",
    "!python glimpse/src/further_processing_extractive.py output/outputResults.pk output/summaries.csv\n",
    "# Evaluation with ROUGE metrics\n",
    "!python glimpse/evaluate/evaluate_common_metrics_samples.py --summaries output/summaries.csv\n",
    "# Evaluation with BERTScore\n",
    "!python glimpse/evaluate/evaluate_bartbert_metrics.py --summaries output/summaries.csv\n",
    "# Print results \n",
    "!python glimpse/evaluate/print_Rouge_BertScore.py output/summaries.csv"
   ]
  }
 ],
 "metadata": {
  "kaggle": {
   "accelerator": "gpu",
   "dataSources": [],
   "dockerImageVersionId": 30887,
   "isGpuEnabled": true,
   "isInternetEnabled": true,
   "language": "python",
   "sourceType": "notebook"
  },
  "kernelspec": {
   "display_name": "Python 3",
   "language": "python",
   "name": "python3"
  },
  "language_info": {
   "codemirror_mode": {
    "name": "ipython",
    "version": 3
   },
   "file_extension": ".py",
   "mimetype": "text/x-python",
   "name": "python",
   "nbconvert_exporter": "python",
   "pygments_lexer": "ipython3",
   "version": "3.10.12"
  }
 },
 "nbformat": 4,
 "nbformat_minor": 4
}
