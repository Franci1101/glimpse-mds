{
 "cells": [
  {
   "cell_type": "code",
   "execution_count": null,
   "metadata": {
    "_cell_guid": "b1076dfc-b9ad-4769-8c92-a6c4dae69d19",
    "_uuid": "8f2839f25d086af736a60e9eeb907d3b93b6e0e5",
    "execution": {
     "iopub.execute_input": "2025-02-12T20:19:15.673959Z",
     "iopub.status.busy": "2025-02-12T20:19:15.673101Z",
     "iopub.status.idle": "2025-02-12T20:20:06.904247Z",
     "shell.execute_reply": "2025-02-12T20:20:06.903333Z",
     "shell.execute_reply.started": "2025-02-12T20:19:15.673919Z"
    },
    "trusted": true
   },
   "outputs": [],
   "source": [
    "#Create my github folder on kaggle to use its functions\n",
    "!git clone https://github.com/Franci1101/glimpse-mds.git\n",
    "# Always starts from the glimpse-mds folder, so there’s no need to write /kaggle/working/....\n",
    "%cd glimpse-mds\n",
    "# Installation of libraries\n",
    "!pip install torch torchvision torchaudio --index-url https://download.pytorch.org/whl/cu118\n",
    "!pip install rouge-score\n",
    "!pip install bert-score\n",
    "# Install the libraries in requirements\n",
    "!pip install -r /kaggle/working/glimpse-mds/requirements"
   ]
  },
  {
   "cell_type": "markdown",
   "metadata": {},
   "source": [
    "**Choose one of the two processing apply**"
   ]
  },
  {
   "cell_type": "code",
   "execution_count": null,
   "metadata": {
    "execution": {
     "iopub.execute_input": "2025-02-12T20:20:06.906908Z",
     "iopub.status.busy": "2025-02-12T20:20:06.906502Z",
     "iopub.status.idle": "2025-02-12T20:20:12.238897Z",
     "shell.execute_reply": "2025-02-12T20:20:12.237994Z",
     "shell.execute_reply.started": "2025-02-12T20:20:06.906866Z"
    },
    "trusted": true
   },
   "outputs": [],
   "source": [
    "# Basic processing of data\n",
    "!python glimpse/data_loading/data_processing.py"
   ]
  },
  {
   "cell_type": "code",
   "execution_count": null,
   "metadata": {
    "trusted": true
   },
   "outputs": [],
   "source": [
    "# Improvement of data processing\n",
    "!python glimpse/data_loading/data_processing_update.py data/all_reviews_2017.csv data/processed/all_reviews_2017.csv"
   ]
  },
  {
   "cell_type": "code",
   "execution_count": null,
   "metadata": {
    "execution": {
     "iopub.execute_input": "2025-02-12T20:20:12.621688Z",
     "iopub.status.busy": "2025-02-12T20:20:12.621381Z",
     "iopub.status.idle": "2025-02-12T20:21:38.773729Z",
     "shell.execute_reply": "2025-02-12T20:21:38.772766Z",
     "shell.execute_reply.started": "2025-02-12T20:20:12.621660Z"
    },
    "trusted": true
   },
   "outputs": [],
   "source": [
    "# Further processing for abstractive\n",
    "!python glimpse/data_loading/processing_abstractive.py data/processed/all_reviews_2017.csv data/processed/all_reviews_2017.csv\n",
    "\n",
    "# Run od abstractive phase\n",
    "!bash scripts/abstractive.sh data/processed/all_reviews_2017.csv --output_dir output"
   ]
  },
  {
   "cell_type": "code",
   "execution_count": null,
   "metadata": {
    "execution": {
     "iopub.execute_input": "2025-02-12T20:21:38.775616Z",
     "iopub.status.busy": "2025-02-12T20:21:38.775305Z",
     "iopub.status.idle": "2025-02-12T20:21:40.356780Z",
     "shell.execute_reply": "2025-02-12T20:21:40.355903Z",
     "shell.execute_reply.started": "2025-02-12T20:21:38.775587Z"
    },
    "trusted": true
   },
   "outputs": [],
   "source": [
    "# Output data processing\n",
    "!python glimpse/src/output_data_processing.py output/outputResults.pk output/summaries.csv\n",
    "# Remove further obsolete characters\n",
    "!python glimpse/src/further_processing_abstract.py output/summaries.csv output/summaries.csv\n",
    "# Evaluation with ROUGE metrics\n",
    "!python glimpse/evaluate/evaluate_common_metrics_samples.py --summaries output/summaries.csv\n",
    "# Evaluation with BERTScore\n",
    "!python glimpse/evaluate/evaluate_bartbert_metrics.py --summaries output/summaries.csv\n",
    "# Print results \n",
    "!python glimpse/evaluate/print_Rouge_BertScore.py output/summaries.csv"
   ]
  }
 ],
 "metadata": {
  "kaggle": {
   "accelerator": "gpu",
   "dataSources": [
    {
     "datasetId": 6655950,
     "sourceId": 10734788,
     "sourceType": "datasetVersion"
    }
   ],
   "dockerImageVersionId": 30787,
   "isGpuEnabled": true,
   "isInternetEnabled": true,
   "language": "python",
   "sourceType": "notebook"
  },
  "kernelspec": {
   "display_name": "Python 3",
   "language": "python",
   "name": "python3"
  },
  "language_info": {
   "codemirror_mode": {
    "name": "ipython",
    "version": 3
   },
   "file_extension": ".py",
   "mimetype": "text/x-python",
   "name": "python",
   "nbconvert_exporter": "python",
   "pygments_lexer": "ipython3",
   "version": "3.10.14"
  }
 },
 "nbformat": 4,
 "nbformat_minor": 4
}
